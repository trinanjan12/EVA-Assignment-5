{
  "nbformat": 4,
  "nbformat_minor": 0,
  "metadata": {
    "colab": {
      "name": "EVA_Assignment5.ipynb",
      "version": "0.3.2",
      "provenance": [],
      "collapsed_sections": [],
      "include_colab_link": true
    },
    "kernelspec": {
      "name": "python3",
      "display_name": "Python 3"
    },
    "accelerator": "GPU"
  },
  "cells": [
    {
      "cell_type": "markdown",
      "metadata": {
        "id": "view-in-github",
        "colab_type": "text"
      },
      "source": [
        "<a href=\"https://colab.research.google.com/github/Ovrup/EVA-Assignment-5/blob/master/EVA_Assignment5.ipynb\" target=\"_parent\"><img src=\"https://colab.research.google.com/assets/colab-badge.svg\" alt=\"Open In Colab\"/></a>"
      ]
    },
    {
      "cell_type": "code",
      "metadata": {
        "id": "Ir7AeWMDhuSJ",
        "colab_type": "code",
        "colab": {}
      },
      "source": [
        "# https://keras.io/\n",
        "!pip install -q keras\n",
        "import keras"
      ],
      "execution_count": 0,
      "outputs": []
    },
    {
      "cell_type": "code",
      "metadata": {
        "id": "QSjrr3Izh3pC",
        "colab_type": "code",
        "colab": {}
      },
      "source": [
        "# Importing all necessary modules in Keras\n",
        "import numpy as np\n",
        "\n",
        "from keras.models import Sequential\n",
        "from keras.layers import Dense, Dropout, Activation, Flatten, Add\n",
        "from keras.layers import Convolution2D, MaxPooling2D\n",
        "from keras.utils import np_utils\n",
        "from keras.optimizers import SGD\n",
        "from keras.layers.normalization import BatchNormalization\n",
        "from keras.callbacks import ReduceLROnPlateau\n",
        "from keras.callbacks import ModelCheckpoint"
      ],
      "execution_count": 0,
      "outputs": []
    },
    {
      "cell_type": "code",
      "metadata": {
        "id": "TRRChybch31I",
        "colab_type": "code",
        "colab": {
          "base_uri": "https://localhost:8080/",
          "height": 170
        },
        "outputId": "1c2fe600-f2ad-429c-a4b0-132322020ab4"
      },
      "source": [
        "\n",
        "# example of standardizing a image dataset\n",
        "from keras.datasets import mnist\n",
        "from keras.preprocessing.image import ImageDataGenerator\n",
        "# load dataset\n",
        "(trainX, trainY), (testX, test_Y) = mnist.load_data()\n",
        "print(f'training set = {trainX.shape}')\n",
        "print(f'test set = {testX.shape}')\n",
        "\n",
        "# reshape dataset to have a single channel\n",
        "# The train & test set are 3D matrix.The training set is of shape (60000,28,28) & test set is (10000,28,28). But here the CNN model expects\n",
        "# the input shape to be 4D i.e (no of samples,height,width,channel).Channel implies whether the image is gray scale or colour(RGB). In case of\n",
        "# RGB image the 4th dimension would be 3. In this case the images are gray scale. Hence, it is 1. That's why training & test set are reshaped into\n",
        "# matrices of shape (60000,28,28,1) & (10000,28,28,1) respectively.\n",
        "width, height, channels = trainX.shape[1], trainX.shape[2], 1\n",
        "trainX = trainX.reshape((trainX.shape[0], width, height, channels))\n",
        "testX = testX.reshape((testX.shape[0], width, height, channels))\n",
        "print(f'Reshaped training set = {trainX.shape}')\n",
        "print(f'Reshaped test set = {testX.shape}')\n",
        "\n",
        "# report pixel max, min, means and standard deviations\n",
        "print('training maximum pixel = %.3f , minimum pixel = %.3f' %(trainX.max(), trainX.min()))\n",
        "print('Statistics train=%.3f (%.3f), test=%.3f (%.3f)' % (trainX.mean(), trainX.std(), testX.mean(), testX.std()))\n",
        "\n",
        "# create generator that centers pixel values\n",
        "datagen = ImageDataGenerator(featurewise_center=True, featurewise_std_normalization=True)\n",
        "\n",
        "# calculate the mean on the training dataset\n",
        "datagen.fit(trainX)\n",
        "print('Data Generator mean=%.3f, std=%.3f' % (datagen.mean, datagen.std))\n",
        "\n",
        "# demonstrate effect on a single batch of samples\n",
        "iterator = datagen.flow(trainX, trainY, batch_size=64)\n",
        "\n",
        "# get a batch\n",
        "batchX, batchy = iterator.next()\n",
        "\n",
        "\n",
        "# pixel stats in the batch\n",
        "print(batchX.shape, batchX.mean(), batchX.std(), batchX.max(), batchX.min())\n",
        "\n",
        "# demonstrate effect on entire training dataset\n",
        "iterator = datagen.flow(trainX, trainY, batch_size=len(trainX), shuffle=False)\n",
        "\n",
        "# get a batch\n",
        "batchX, batchy = iterator.next()\n",
        "\n",
        "# pixel stats in the batch\n",
        "print(batchX.shape, batchX.mean(), batchX.std())"
      ],
      "execution_count": 120,
      "outputs": [
        {
          "output_type": "stream",
          "text": [
            "training set = (60000, 28, 28)\n",
            "test set = (10000, 28, 28)\n",
            "Reshaped training set = (60000, 28, 28, 1)\n",
            "Reshaped test set = (10000, 28, 28, 1)\n",
            "training maximum pixel = 255.000 , minimum pixel = 0.000\n",
            "Statistics train=33.318 (78.567), test=33.791 (79.172)\n",
            "Data Generator mean=33.318, std=78.567\n",
            "(64, 28, 28, 1) 0.038626786 1.0434185 2.8215446 -0.42407447\n",
            "(60000, 28, 28, 1) -3.4560264e-07 0.9999998\n"
          ],
          "name": "stdout"
        }
      ]
    },
    {
      "cell_type": "code",
      "metadata": {
        "id": "Hz_GaFwXh4K8",
        "colab_type": "code",
        "outputId": "7cf0d410-1ce6-4f5e-dca1-b2d98df8a9f1",
        "colab": {
          "base_uri": "https://localhost:8080/",
          "height": 34
        }
      },
      "source": [
        "# 1st 10 labels for training set. As printed below the 1st element is 5 which implies the 1st image of training set is of digit 5 and so on. \n",
        "trainY[:10]"
      ],
      "execution_count": 121,
      "outputs": [
        {
          "output_type": "execute_result",
          "data": {
            "text/plain": [
              "array([5, 0, 4, 1, 9, 2, 1, 3, 1, 4], dtype=uint8)"
            ]
          },
          "metadata": {
            "tags": []
          },
          "execution_count": 121
        }
      ]
    },
    {
      "cell_type": "code",
      "metadata": {
        "id": "V4HAeMk-h4Op",
        "colab_type": "code",
        "colab": {}
      },
      "source": [
        "# Convert 1-dimensional class arrays to 10-dimensional class matrices\n",
        "# As shown above the label matrix(Y_train & Y_test) holds values that implies what digit the image is about. So, keras may find some relational order\n",
        "# between these values. To avoid this problem we hot encode the matrix into a binary matrix. This matrix has number of columns equal to the number\n",
        "# of classes(10 columns in this scenario). Each row defines the label of one sample point in data set & has only one '1' & others are '0'. '1' at\n",
        "# particular index position implies the digit equal to the column number. For example, the 1st row(1st sample of training data set) has '1' at column\n",
        "# number 5(starting from 0) which means this is image of digit 5.\n",
        "# Convert 1-dimensional class arrays to 10-dimensional class matrices \n",
        "trainY = np_utils.to_categorical(trainY, 10)\n",
        "testY = np_utils.to_categorical(test_Y, 10)"
      ],
      "execution_count": 0,
      "outputs": []
    },
    {
      "cell_type": "code",
      "metadata": {
        "id": "SnEjyfkyh4RJ",
        "colab_type": "code",
        "outputId": "c2c3e468-ab75-4280-bff0-8e889b794dcd",
        "colab": {
          "base_uri": "https://localhost:8080/",
          "height": 187
        }
      },
      "source": [
        "# Label matrix hot encoded into binary matrix\n",
        "trainY[:10]"
      ],
      "execution_count": 123,
      "outputs": [
        {
          "output_type": "execute_result",
          "data": {
            "text/plain": [
              "array([[0., 0., 0., 0., 0., 1., 0., 0., 0., 0.],\n",
              "       [1., 0., 0., 0., 0., 0., 0., 0., 0., 0.],\n",
              "       [0., 0., 0., 0., 1., 0., 0., 0., 0., 0.],\n",
              "       [0., 1., 0., 0., 0., 0., 0., 0., 0., 0.],\n",
              "       [0., 0., 0., 0., 0., 0., 0., 0., 0., 1.],\n",
              "       [0., 0., 1., 0., 0., 0., 0., 0., 0., 0.],\n",
              "       [0., 1., 0., 0., 0., 0., 0., 0., 0., 0.],\n",
              "       [0., 0., 0., 1., 0., 0., 0., 0., 0., 0.],\n",
              "       [0., 1., 0., 0., 0., 0., 0., 0., 0., 0.],\n",
              "       [0., 0., 0., 0., 1., 0., 0., 0., 0., 0.]], dtype=float32)"
            ]
          },
          "metadata": {
            "tags": []
          },
          "execution_count": 123
        }
      ]
    },
    {
      "cell_type": "code",
      "metadata": {
        "id": "Iy_ibvgrX4Ek",
        "colab_type": "code",
        "colab": {}
      },
      "source": [
        "from keras.layers import Activation\n",
        "\n",
        "model = Sequential()\n",
        "\n",
        "# Input = 28*28*1\n",
        "model.add(Convolution2D(10, kernel_size = (3,3), input_shape = (28, 28, 1)))\n",
        "model.add(BatchNormalization())\n",
        "model.add(Activation('relu'))\n",
        "model.add(Dropout(0.15))\n",
        "\n",
        "# Input = 26*26*10\n",
        "model.add(Convolution2D(16, kernel_size = (3,3)))\n",
        "model.add(BatchNormalization())\n",
        "model.add(Activation('relu'))\n",
        "# Input = 24*24*16\n",
        "model.add(Convolution2D(16, kernel_size = (3,3)))\n",
        "model.add(BatchNormalization())\n",
        "model.add(Activation('relu'))\n",
        "model.add(Dropout(0.15))\n",
        "\n",
        "# Input = 22*22*16\n",
        "model.add(Convolution2D(10, kernel_size=(1,1)))\n",
        "model.add(BatchNormalization())\n",
        "model.add(Activation('relu'))\n",
        "# Input = 22*22*10\n",
        "model.add(MaxPooling2D(pool_size = (2,2)))\n",
        "\n",
        "# Input = 11*11*10\n",
        "model.add(Convolution2D(16, kernel_size=(3,3)))\n",
        "model.add(BatchNormalization())\n",
        "model.add(Activation('relu'))\n",
        "# Input = 9*9*16\n",
        "model.add(Convolution2D(16, kernel_size=(3,3)))\n",
        "model.add(BatchNormalization())\n",
        "model.add(Activation('relu'))\n",
        "model.add(Dropout(0.15))\n",
        "\n",
        "# Input = 7*7*16\n",
        "model.add(Convolution2D(10, kernel_size=(1,1)))\n",
        "model.add(BatchNormalization())\n",
        "model.add(Activation('relu'))\n",
        "\n",
        "model.add(Dropout(0.15))\n",
        "\n",
        "# Input = 7*7*10\n",
        "model.add(Convolution2D(10, 7))\n",
        "\n",
        "# Input = 1*1*10\n",
        "model.add(Flatten())\n",
        "model.add(Activation('softmax'))"
      ],
      "execution_count": 0,
      "outputs": []
    },
    {
      "cell_type": "code",
      "metadata": {
        "id": "vRGYZKoyiUct",
        "colab_type": "code",
        "outputId": "1ee0fd58-ce78-4e5e-eb69-16c1091bdb63",
        "colab": {
          "base_uri": "https://localhost:8080/",
          "height": 1122
        }
      },
      "source": [
        "# summary() function displays the model structure i.e for each layer how many parameters used, what is the shape of output image\n",
        "model.summary()"
      ],
      "execution_count": 125,
      "outputs": [
        {
          "output_type": "stream",
          "text": [
            "_________________________________________________________________\n",
            "Layer (type)                 Output Shape              Param #   \n",
            "=================================================================\n",
            "conv2d_33 (Conv2D)           (None, 26, 26, 10)        100       \n",
            "_________________________________________________________________\n",
            "batch_normalization_29 (Batc (None, 26, 26, 10)        40        \n",
            "_________________________________________________________________\n",
            "activation_33 (Activation)   (None, 26, 26, 10)        0         \n",
            "_________________________________________________________________\n",
            "dropout_17 (Dropout)         (None, 26, 26, 10)        0         \n",
            "_________________________________________________________________\n",
            "conv2d_34 (Conv2D)           (None, 24, 24, 16)        1456      \n",
            "_________________________________________________________________\n",
            "batch_normalization_30 (Batc (None, 24, 24, 16)        64        \n",
            "_________________________________________________________________\n",
            "activation_34 (Activation)   (None, 24, 24, 16)        0         \n",
            "_________________________________________________________________\n",
            "conv2d_35 (Conv2D)           (None, 22, 22, 16)        2320      \n",
            "_________________________________________________________________\n",
            "batch_normalization_31 (Batc (None, 22, 22, 16)        64        \n",
            "_________________________________________________________________\n",
            "activation_35 (Activation)   (None, 22, 22, 16)        0         \n",
            "_________________________________________________________________\n",
            "dropout_18 (Dropout)         (None, 22, 22, 16)        0         \n",
            "_________________________________________________________________\n",
            "conv2d_36 (Conv2D)           (None, 22, 22, 10)        170       \n",
            "_________________________________________________________________\n",
            "batch_normalization_32 (Batc (None, 22, 22, 10)        40        \n",
            "_________________________________________________________________\n",
            "activation_36 (Activation)   (None, 22, 22, 10)        0         \n",
            "_________________________________________________________________\n",
            "max_pooling2d_5 (MaxPooling2 (None, 11, 11, 10)        0         \n",
            "_________________________________________________________________\n",
            "conv2d_37 (Conv2D)           (None, 9, 9, 16)          1456      \n",
            "_________________________________________________________________\n",
            "batch_normalization_33 (Batc (None, 9, 9, 16)          64        \n",
            "_________________________________________________________________\n",
            "activation_37 (Activation)   (None, 9, 9, 16)          0         \n",
            "_________________________________________________________________\n",
            "conv2d_38 (Conv2D)           (None, 7, 7, 16)          2320      \n",
            "_________________________________________________________________\n",
            "batch_normalization_34 (Batc (None, 7, 7, 16)          64        \n",
            "_________________________________________________________________\n",
            "activation_38 (Activation)   (None, 7, 7, 16)          0         \n",
            "_________________________________________________________________\n",
            "dropout_19 (Dropout)         (None, 7, 7, 16)          0         \n",
            "_________________________________________________________________\n",
            "conv2d_39 (Conv2D)           (None, 7, 7, 10)          170       \n",
            "_________________________________________________________________\n",
            "batch_normalization_35 (Batc (None, 7, 7, 10)          40        \n",
            "_________________________________________________________________\n",
            "activation_39 (Activation)   (None, 7, 7, 10)          0         \n",
            "_________________________________________________________________\n",
            "dropout_20 (Dropout)         (None, 7, 7, 10)          0         \n",
            "_________________________________________________________________\n",
            "conv2d_40 (Conv2D)           (None, 1, 1, 10)          4910      \n",
            "_________________________________________________________________\n",
            "flatten_5 (Flatten)          (None, 10)                0         \n",
            "_________________________________________________________________\n",
            "activation_40 (Activation)   (None, 10)                0         \n",
            "=================================================================\n",
            "Total params: 13,278\n",
            "Trainable params: 13,090\n",
            "Non-trainable params: 188\n",
            "_________________________________________________________________\n"
          ],
          "name": "stdout"
        }
      ]
    },
    {
      "cell_type": "code",
      "metadata": {
        "id": "WivZHFD6qz8m",
        "colab_type": "code",
        "colab": {}
      },
      "source": [
        "\n",
        "from keras.optimizers import SGD"
      ],
      "execution_count": 0,
      "outputs": []
    },
    {
      "cell_type": "code",
      "metadata": {
        "id": "IKkc6pAmiUmE",
        "colab_type": "code",
        "colab": {}
      },
      "source": [
        "# Compile the model with SGD optimizer. Since this is multi class problem (10 classes) 'categorical_crossentropy' is used as loss function.\n",
        "# accuracy is used as metrics which means while training this accuracy metrics will be monitored.\n",
        "model.compile(loss='categorical_crossentropy',\n",
        "             optimizer=SGD(lr=0.1,decay = 0.00001, momentum = 0.8),\n",
        "             metrics=['accuracy'])"
      ],
      "execution_count": 0,
      "outputs": []
    },
    {
      "cell_type": "code",
      "metadata": {
        "id": "DeE58zvhi1OD",
        "colab_type": "code",
        "colab": {}
      },
      "source": [
        "# checkpoint\n",
        "filepath=\"weights.best.hdf5\"\n",
        "checkpoint = ModelCheckpoint(filepath, monitor='val_acc', verbose=1, save_best_only=True, mode='max')\n",
        "callbacks_list = [checkpoint]"
      ],
      "execution_count": 0,
      "outputs": []
    },
    {
      "cell_type": "code",
      "metadata": {
        "id": "KKlIFN4uwPiu",
        "colab_type": "code",
        "colab": {
          "base_uri": "https://localhost:8080/",
          "height": 51
        },
        "outputId": "9874c588-f76d-43e0-b5e2-6f0b6874f3c4"
      },
      "source": [
        "# Creates batches of training data yielded from generator\n",
        "train_iterator = datagen.flow(trainX, trainY,batch_size = 64)\n",
        "print(len(train_iterator))\n",
        "\n",
        "# Creates batches of test data yielded from generator\n",
        "test_iterator = datagen.flow(testX, testY,batch_size = 64)\n",
        "print(len(test_iterator))"
      ],
      "execution_count": 133,
      "outputs": [
        {
          "output_type": "stream",
          "text": [
            "938\n",
            "157\n"
          ],
          "name": "stdout"
        }
      ]
    },
    {
      "cell_type": "code",
      "metadata": {
        "id": "gZcCcCL3iUte",
        "colab_type": "code",
        "outputId": "02442917-73d1-4ef9-f0bb-ab83cfdc2bc0",
        "colab": {
          "base_uri": "https://localhost:8080/",
          "height": 2754
        }
      },
      "source": [
        "# Train the model with fit() which takes the training data set along with the label matrix. Epoch means one round of the whole data set. Batch size\n",
        "# determines in an epoch how many images to be processed parallelly. Batch size 32 means in an epoch in one iteration 32 images are processed.\n",
        "model.fit_generator(train_iterator, steps_per_epoch =len(train_iterator) , epochs=40, callbacks = callbacks_list,validation_data = test_iterator, validation_steps = len(test_iterator) , verbose = 1)"
      ],
      "execution_count": 134,
      "outputs": [
        {
          "output_type": "stream",
          "text": [
            "Epoch 1/40\n",
            "938/938 [==============================] - 13s 14ms/step - loss: 0.0701 - acc: 0.9787 - val_loss: 0.0386 - val_acc: 0.9875\n",
            "\n",
            "Epoch 00001: val_acc improved from -inf to 0.98750, saving model to weights.best.hdf5\n",
            "Epoch 2/40\n",
            "938/938 [==============================] - 11s 12ms/step - loss: 0.0434 - acc: 0.9862 - val_loss: 0.0383 - val_acc: 0.9885\n",
            "\n",
            "Epoch 00002: val_acc improved from 0.98750 to 0.98850, saving model to weights.best.hdf5\n",
            "Epoch 3/40\n",
            "938/938 [==============================] - 11s 12ms/step - loss: 0.0384 - acc: 0.9878 - val_loss: 0.0334 - val_acc: 0.9883\n",
            "\n",
            "Epoch 00003: val_acc did not improve from 0.98850\n",
            "Epoch 4/40\n",
            "938/938 [==============================] - 11s 11ms/step - loss: 0.0356 - acc: 0.9887 - val_loss: 0.0352 - val_acc: 0.9888\n",
            "\n",
            "Epoch 00004: val_acc improved from 0.98850 to 0.98880, saving model to weights.best.hdf5\n",
            "Epoch 5/40\n",
            "938/938 [==============================] - 11s 11ms/step - loss: 0.0329 - acc: 0.9893 - val_loss: 0.0252 - val_acc: 0.9915\n",
            "\n",
            "Epoch 00005: val_acc improved from 0.98880 to 0.99150, saving model to weights.best.hdf5\n",
            "Epoch 6/40\n",
            "938/938 [==============================] - 11s 12ms/step - loss: 0.0316 - acc: 0.9899 - val_loss: 0.0203 - val_acc: 0.9929\n",
            "\n",
            "Epoch 00006: val_acc improved from 0.99150 to 0.99290, saving model to weights.best.hdf5\n",
            "Epoch 7/40\n",
            "938/938 [==============================] - 11s 11ms/step - loss: 0.0284 - acc: 0.9908 - val_loss: 0.0294 - val_acc: 0.9908\n",
            "\n",
            "Epoch 00007: val_acc did not improve from 0.99290\n",
            "Epoch 8/40\n",
            "938/938 [==============================] - 11s 11ms/step - loss: 0.0286 - acc: 0.9908 - val_loss: 0.0195 - val_acc: 0.9935\n",
            "\n",
            "Epoch 00008: val_acc improved from 0.99290 to 0.99350, saving model to weights.best.hdf5\n",
            "Epoch 9/40\n",
            "938/938 [==============================] - 11s 11ms/step - loss: 0.0263 - acc: 0.9915 - val_loss: 0.0211 - val_acc: 0.9926\n",
            "\n",
            "Epoch 00009: val_acc did not improve from 0.99350\n",
            "Epoch 10/40\n",
            "938/938 [==============================] - 11s 11ms/step - loss: 0.0248 - acc: 0.9918 - val_loss: 0.0236 - val_acc: 0.9928\n",
            "\n",
            "Epoch 00010: val_acc did not improve from 0.99350\n",
            "Epoch 11/40\n",
            "938/938 [==============================] - 11s 11ms/step - loss: 0.0242 - acc: 0.9921 - val_loss: 0.0262 - val_acc: 0.9918\n",
            "\n",
            "Epoch 00011: val_acc did not improve from 0.99350\n",
            "Epoch 12/40\n",
            "938/938 [==============================] - 11s 11ms/step - loss: 0.0244 - acc: 0.9919 - val_loss: 0.0258 - val_acc: 0.9909\n",
            "\n",
            "Epoch 00012: val_acc did not improve from 0.99350\n",
            "Epoch 13/40\n",
            "938/938 [==============================] - 11s 11ms/step - loss: 0.0232 - acc: 0.9927 - val_loss: 0.0195 - val_acc: 0.9936\n",
            "\n",
            "Epoch 00013: val_acc improved from 0.99350 to 0.99360, saving model to weights.best.hdf5\n",
            "Epoch 14/40\n",
            "938/938 [==============================] - 11s 12ms/step - loss: 0.0233 - acc: 0.9921 - val_loss: 0.0219 - val_acc: 0.9925\n",
            "\n",
            "Epoch 00014: val_acc did not improve from 0.99360\n",
            "Epoch 15/40\n",
            "938/938 [==============================] - 11s 12ms/step - loss: 0.0225 - acc: 0.9925 - val_loss: 0.0219 - val_acc: 0.9930\n",
            "\n",
            "Epoch 00015: val_acc did not improve from 0.99360\n",
            "Epoch 16/40\n",
            "938/938 [==============================] - 11s 11ms/step - loss: 0.0202 - acc: 0.9932 - val_loss: 0.0290 - val_acc: 0.9917\n",
            "\n",
            "Epoch 00016: val_acc did not improve from 0.99360\n",
            "Epoch 17/40\n",
            "938/938 [==============================] - 11s 11ms/step - loss: 0.0210 - acc: 0.9935 - val_loss: 0.0252 - val_acc: 0.9918\n",
            "\n",
            "Epoch 00017: val_acc did not improve from 0.99360\n",
            "Epoch 18/40\n",
            "938/938 [==============================] - 11s 11ms/step - loss: 0.0208 - acc: 0.9932 - val_loss: 0.0200 - val_acc: 0.9942\n",
            "\n",
            "Epoch 00018: val_acc improved from 0.99360 to 0.99420, saving model to weights.best.hdf5\n",
            "Epoch 19/40\n",
            "938/938 [==============================] - 11s 11ms/step - loss: 0.0194 - acc: 0.9936 - val_loss: 0.0256 - val_acc: 0.9930\n",
            "\n",
            "Epoch 00019: val_acc did not improve from 0.99420\n",
            "Epoch 20/40\n",
            "938/938 [==============================] - 11s 11ms/step - loss: 0.0210 - acc: 0.9932 - val_loss: 0.0330 - val_acc: 0.9893\n",
            "\n",
            "Epoch 00020: val_acc did not improve from 0.99420\n",
            "Epoch 21/40\n",
            "938/938 [==============================] - 11s 12ms/step - loss: 0.0187 - acc: 0.9937 - val_loss: 0.0203 - val_acc: 0.9933\n",
            "\n",
            "Epoch 00021: val_acc did not improve from 0.99420\n",
            "Epoch 22/40\n",
            "938/938 [==============================] - 11s 11ms/step - loss: 0.0182 - acc: 0.9939 - val_loss: 0.0214 - val_acc: 0.9932\n",
            "\n",
            "Epoch 00022: val_acc did not improve from 0.99420\n",
            "Epoch 23/40\n",
            "938/938 [==============================] - 11s 11ms/step - loss: 0.0180 - acc: 0.9943 - val_loss: 0.0283 - val_acc: 0.9916\n",
            "\n",
            "Epoch 00023: val_acc did not improve from 0.99420\n",
            "Epoch 24/40\n",
            "938/938 [==============================] - 11s 11ms/step - loss: 0.0173 - acc: 0.9943 - val_loss: 0.0227 - val_acc: 0.9930\n",
            "\n",
            "Epoch 00024: val_acc did not improve from 0.99420\n",
            "Epoch 25/40\n",
            "938/938 [==============================] - 11s 11ms/step - loss: 0.0175 - acc: 0.9942 - val_loss: 0.0230 - val_acc: 0.9935\n",
            "\n",
            "Epoch 00025: val_acc did not improve from 0.99420\n",
            "Epoch 26/40\n",
            "938/938 [==============================] - 11s 12ms/step - loss: 0.0176 - acc: 0.9944 - val_loss: 0.0182 - val_acc: 0.9947\n",
            "\n",
            "Epoch 00026: val_acc improved from 0.99420 to 0.99470, saving model to weights.best.hdf5\n",
            "Epoch 27/40\n",
            "938/938 [==============================] - 11s 11ms/step - loss: 0.0164 - acc: 0.9946 - val_loss: 0.0226 - val_acc: 0.9929\n",
            "\n",
            "Epoch 00027: val_acc did not improve from 0.99470\n",
            "Epoch 28/40\n",
            "938/938 [==============================] - 11s 11ms/step - loss: 0.0164 - acc: 0.9947 - val_loss: 0.0207 - val_acc: 0.9938\n",
            "\n",
            "Epoch 00028: val_acc did not improve from 0.99470\n",
            "Epoch 29/40\n",
            "938/938 [==============================] - 11s 11ms/step - loss: 0.0158 - acc: 0.9946 - val_loss: 0.0233 - val_acc: 0.9923\n",
            "\n",
            "Epoch 00029: val_acc did not improve from 0.99470\n",
            "Epoch 30/40\n",
            "938/938 [==============================] - 11s 11ms/step - loss: 0.0163 - acc: 0.9945 - val_loss: 0.0235 - val_acc: 0.9931\n",
            "\n",
            "Epoch 00030: val_acc did not improve from 0.99470\n",
            "Epoch 31/40\n",
            "938/938 [==============================] - 11s 11ms/step - loss: 0.0154 - acc: 0.9949 - val_loss: 0.0250 - val_acc: 0.9928\n",
            "\n",
            "Epoch 00031: val_acc did not improve from 0.99470\n",
            "Epoch 32/40\n",
            "938/938 [==============================] - 11s 11ms/step - loss: 0.0168 - acc: 0.9945 - val_loss: 0.0238 - val_acc: 0.9921\n",
            "\n",
            "Epoch 00032: val_acc did not improve from 0.99470\n",
            "Epoch 33/40\n",
            "938/938 [==============================] - 11s 11ms/step - loss: 0.0146 - acc: 0.9952 - val_loss: 0.0205 - val_acc: 0.9939\n",
            "\n",
            "Epoch 00033: val_acc did not improve from 0.99470\n",
            "Epoch 34/40\n",
            "938/938 [==============================] - 11s 11ms/step - loss: 0.0154 - acc: 0.9949 - val_loss: 0.0233 - val_acc: 0.9926\n",
            "\n",
            "Epoch 00034: val_acc did not improve from 0.99470\n",
            "Epoch 35/40\n",
            "938/938 [==============================] - 11s 11ms/step - loss: 0.0148 - acc: 0.9950 - val_loss: 0.0210 - val_acc: 0.9941\n",
            "\n",
            "Epoch 00035: val_acc did not improve from 0.99470\n",
            "Epoch 36/40\n",
            "938/938 [==============================] - 11s 12ms/step - loss: 0.0141 - acc: 0.9952 - val_loss: 0.0247 - val_acc: 0.9937\n",
            "\n",
            "Epoch 00036: val_acc did not improve from 0.99470\n",
            "Epoch 37/40\n",
            "938/938 [==============================] - 11s 11ms/step - loss: 0.0139 - acc: 0.9956 - val_loss: 0.0213 - val_acc: 0.9936\n",
            "\n",
            "Epoch 00037: val_acc did not improve from 0.99470\n",
            "Epoch 38/40\n",
            "938/938 [==============================] - 11s 11ms/step - loss: 0.0139 - acc: 0.9952 - val_loss: 0.0240 - val_acc: 0.9931\n",
            "\n",
            "Epoch 00038: val_acc did not improve from 0.99470\n",
            "Epoch 39/40\n",
            "938/938 [==============================] - 11s 11ms/step - loss: 0.0144 - acc: 0.9952 - val_loss: 0.0216 - val_acc: 0.9937\n",
            "\n",
            "Epoch 00039: val_acc did not improve from 0.99470\n",
            "Epoch 40/40\n",
            "938/938 [==============================] - 11s 11ms/step - loss: 0.0134 - acc: 0.9955 - val_loss: 0.0226 - val_acc: 0.9932\n",
            "\n",
            "Epoch 00040: val_acc did not improve from 0.99470\n"
          ],
          "name": "stdout"
        },
        {
          "output_type": "execute_result",
          "data": {
            "text/plain": [
              "<keras.callbacks.History at 0x7f4d80f4a390>"
            ]
          },
          "metadata": {
            "tags": []
          },
          "execution_count": 134
        }
      ]
    },
    {
      "cell_type": "code",
      "metadata": {
        "id": "HvcVXIlrkHD-",
        "colab_type": "code",
        "colab": {}
      },
      "source": [
        "# load weights\n",
        "model.load_weights(\"weights.best.hdf5\")"
      ],
      "execution_count": 0,
      "outputs": []
    },
    {
      "cell_type": "code",
      "metadata": {
        "id": "2lUiqnzdkIhi",
        "colab_type": "code",
        "colab": {}
      },
      "source": [
        "# Compile the model with SGD optimizer. Since this is multi class problem (10 classes) 'categorical_crossentropy' is used as loss function.\n",
        "# accuracy is used as metrics which means while training this accuracy metrics will be monitored.\n",
        "model.compile(loss='categorical_crossentropy',\n",
        "             optimizer=SGD(lr=0.01,decay = 0.00001, momentum = 0.8),\n",
        "             metrics=['accuracy'])"
      ],
      "execution_count": 0,
      "outputs": []
    },
    {
      "cell_type": "code",
      "metadata": {
        "id": "GuMcqXEokNDy",
        "colab_type": "code",
        "colab": {
          "base_uri": "https://localhost:8080/",
          "height": 34
        },
        "outputId": "179006dd-cad9-4dd4-fb5c-8a2db45668fd"
      },
      "source": [
        "# Now the model is trained which means the weights are optimized. model.evaluate() predicts the classes of each image in test set & then calculate\n",
        "# test set loss & accuracy.\n",
        "score = model.evaluate_generator(test_iterator, steps = len(test_iterator), verbose=1)"
      ],
      "execution_count": 137,
      "outputs": [
        {
          "output_type": "stream",
          "text": [
            "157/157 [==============================] - 2s 13ms/step\n"
          ],
          "name": "stdout"
        }
      ]
    },
    {
      "cell_type": "code",
      "metadata": {
        "id": "Z31gnRtukaG7",
        "colab_type": "code",
        "colab": {
          "base_uri": "https://localhost:8080/",
          "height": 34
        },
        "outputId": "c2f5de12-8a35-420e-f9c3-9173875da4a1"
      },
      "source": [
        "# score is a vector that holds the test set loss & accuracy\n",
        "print(score)"
      ],
      "execution_count": 138,
      "outputs": [
        {
          "output_type": "stream",
          "text": [
            "[0.016879419930209406, 0.995]\n"
          ],
          "name": "stdout"
        }
      ]
    },
    {
      "cell_type": "code",
      "metadata": {
        "id": "hpYzj-yaka7e",
        "colab_type": "code",
        "colab": {}
      },
      "source": [
        "# Predict the class of each image in test set & stores in y_pred matrix\n",
        "y_pred = model.predict_classes(testX)"
      ],
      "execution_count": 0,
      "outputs": []
    },
    {
      "cell_type": "code",
      "metadata": {
        "id": "RV1dVrFA5ynJ",
        "colab_type": "code",
        "colab": {}
      },
      "source": [
        "# Reshaped the test set to (10000, 28, 28) to be able to display images\n",
        "testX = testX.reshape(testX.shape[0], width, height)"
      ],
      "execution_count": 0,
      "outputs": []
    },
    {
      "cell_type": "code",
      "metadata": {
        "id": "WfDLnyqg7uQU",
        "colab_type": "code",
        "colab": {
          "base_uri": "https://localhost:8080/",
          "height": 34
        },
        "outputId": "b5a3ba7d-5067-4130-8dfd-bd42a975b8fa"
      },
      "source": [
        "# Shape of test set\n",
        "print(testX.shape)"
      ],
      "execution_count": 141,
      "outputs": [
        {
          "output_type": "stream",
          "text": [
            "(10000, 28, 28)\n"
          ],
          "name": "stdout"
        }
      ]
    },
    {
      "cell_type": "code",
      "metadata": {
        "id": "W5tTsReFiik-",
        "colab_type": "code",
        "colab": {}
      },
      "source": [
        "# Storing the indexes of miss classified images in a list\n",
        "miss_classified = [idx for idx, i in enumerate(y_pred) if i != test_Y[idx]]"
      ],
      "execution_count": 0,
      "outputs": []
    },
    {
      "cell_type": "code",
      "metadata": {
        "id": "G2EpjIY599kS",
        "colab_type": "code",
        "colab": {}
      },
      "source": [
        "# All miss classified images are taken from test set & stored in a new numpy array\n",
        "miss_classified_images = np.array([testX[i] for i in miss_classified])"
      ],
      "execution_count": 0,
      "outputs": []
    },
    {
      "cell_type": "code",
      "metadata": {
        "id": "UaJ_nYUzCzFg",
        "colab_type": "code",
        "colab": {
          "base_uri": "https://localhost:8080/",
          "height": 758
        },
        "outputId": "99a6abe7-d588-4b08-de0d-6234d934aefc"
      },
      "source": [
        "# Displaying 25 miss classified images\n",
        "from matplotlib import pyplot as plt\n",
        "fig = plt.figure(figsize=(10, 10))  # figure size in inches\n",
        "fig.subplots_adjust(left=0, right=1, bottom=0, top=1, hspace=0.05, wspace=0.05)\n",
        "\n",
        "for i in range(25):\n",
        "    ax = fig.add_subplot(5, 5, i + 1, xticks=[], yticks=[])\n",
        "    ax.imshow(miss_classified_images[i])\n",
        "    # label the image with the target value\n",
        "    ax.text(0, 7, str(y_pred[i]))"
      ],
      "execution_count": 145,
      "outputs": [
        {
          "output_type": "display_data",
          "data": {
            "image/png": "[encoded data removed]",
            "text/plain": [
              "<Figure size 720x720 with 25 Axes>"
            ]
          },
          "metadata": {
            "tags": []
          }
        }
      ]
    },
    {
      "cell_type": "code",
      "metadata": {
        "id": "ShGbYmvH7l4a",
        "colab_type": "code",
        "colab": {}
      },
      "source": [
        ""
      ],
      "execution_count": 0,
      "outputs": []
    }
  ]
}